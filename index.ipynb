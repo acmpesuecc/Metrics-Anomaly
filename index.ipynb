{
 "cells": [
  {
   "cell_type": "code",
   "execution_count": null,
   "metadata": {},
   "outputs": [],
   "source": [
    "#hide\n",
    "from metrics_anomaly.core import *"
   ]
  },
  {
   "cell_type": "markdown",
   "metadata": {},
   "source": [
    "# Metrics-Anomaly\n",
    "\n",
    "> Finds anomalies in cloud metrics data. "
   ]
  },
  {
   "cell_type": "markdown",
   "metadata": {},
   "source": [
    "[![Open Source? Yes!](https://img.shields.io/badge/Version-0.1-green)](https://img.shields.io/badge/Version-0.1-green)\n",
    "[![Open Source? Yes!](https://badgen.net/badge/Open%20Source%20%3F/Yes%21/blue?icon=github)](https://github.com/Naereen/badges/)\n",
    "[![Maintenance](https://img.shields.io/badge/OS-Linux%2C%20Mac-red)](https://img.shields.io/badge/OS-Linux%2C%20Mac-red)\n",
    "[![Maintenance](https://img.shields.io/badge/Maintained%3F-yes-green.svg)](https://GitHub.com/Naereen/StrapDown.js/graphs/commit-activity)\n",
    "[![Documentation Status](https://img.shields.io/badge/Python-v3.6-blue)](https://img.shields.io/badge/Python-v3.6-blue)\n",
    "[![Documentation Status](https://readthedocs.org/projects/ansicolortags/badge/?version=latest)](http://ansicolortags.readthedocs.io/?badge=latest)\n",
    "\n",
    "## Before you begin -\n",
    "\n",
    "Before you begin we recommend you to know more about -  \n",
    "* Time Series Data - Go through https://www.aptech.com/blog/introduction-to-the-fundamentals-of-time-series-data-and-analysis/  \n",
    "* AWS Cloudwatch Metrics - Go through https://docs.aws.amazon.com/AmazonCloudWatch/latest/monitoring/working_with_metrics.html  \n",
    "\n",
    "## Prerequisites - \n",
    "\n",
    "We expect you to have been using Jupyter Notebooks.In case you pictured a planet instead :innocent:,  \n",
    "Install everything below ASAP before your friend goes ahead makes a PR :) \n",
    "\n",
    "*  Git - https://git-scm.com/downloads. OSX and Linux machines typically have this already installed.  \n",
    "*  Anaconda - https://docs.anaconda.com/anaconda/install/,  Jupyter Notebook should come along.(you'll need a Jupyter Notebook Server configured on your machine. If you have not installed Jupyter before, you may find the Anaconda Individual Edition the simplest to install.)  \n",
    "\n",
    "\n",
    "## Installation  \n",
    "\n",
    "To install, just run the following commands in order.  \n",
    "\n",
    "\n"
   ]
  },
  {
   "cell_type": "markdown",
   "metadata": {},
   "source": [
    "### 1. Clone our Repo\n",
    "```shell\n",
    "git clone https://github.com/manikyabard/Metrics-Anomaly.git (Change it later)\n",
    "```\n",
    "### 2. cd into our Repo\n",
    "```shell\n",
    "cd Metrics-Anomaly/\n",
    "```\n",
    "### 3. Install nbdev\n",
    "```shell\n",
    "python -m pip install nbdev\n",
    "```\n",
    "### 4. Install git hooks  \n",
    "Jupyter Notebooks can cause challenges with git conflicts, but life becomes much easier when you use nbdev. As a first step, run nbdev_install_git_hooks in the terminal from your project folder.  \n",
    "```shell\n",
    "nbdev_install_git_hooks\n",
    "```\n",
    "\n",
    "### 5. Depending on the Issue make your changes \n",
    "\n",
    "### 6.Build lib\n",
    "Now you can create your python module. To do so, just run nbdev_build_lib from the terminal when anywhere in your project folder.\n",
    "```shell\n",
    "nbdev_build_lib\n",
    "```\n",
    "```shell\n",
    "nbdev_clean_nbs\n",
    "```  \n",
    "### 7. Edit index.ipynb(If required)\n",
    "create your documentation home page and readme file by making changes to index.ipynb\n",
    "\n",
    "\n",
    "### 8. Build docs\n",
    "Now you can create your documentation. To do so, just run nbdev_build_docs from the terminal when anywhere in your project folder.  \n",
    "```shell\n",
    "nbdev_build_docs\n",
    "```\n",
    "---\n",
    "\n",
    "> :warning: **All these steps must be done before you commit and make a PR!**\n",
    "\n",
    "---"
   ]
  },
  {
   "cell_type": "markdown",
   "metadata": {},
   "source": [
    "## We have already made an implementation using Facebook's Prophet"
   ]
  },
  {
   "cell_type": "markdown",
   "metadata": {},
   "source": []
  },
  {
   "cell_type": "markdown",
   "metadata": {},
   "source": []
  },
  {
   "cell_type": "markdown",
   "metadata": {},
   "source": []
  },
  {
   "cell_type": "markdown",
   "metadata": {},
   "source": []
  },
  {
   "cell_type": "code",
   "execution_count": null,
   "metadata": {},
   "outputs": [
    {
     "data": {
      "text/plain": [
       "2"
      ]
     },
     "execution_count": null,
     "metadata": {},
     "output_type": "execute_result"
    }
   ],
   "source": []
  },
  {
   "cell_type": "code",
   "execution_count": null,
   "metadata": {},
   "outputs": [],
   "source": []
  }
 ],
 "metadata": {
  "kernelspec": {
   "display_name": "Python 3",
   "language": "python",
   "name": "python3"
  }
 },
 "nbformat": 4,
 "nbformat_minor": 2
}
