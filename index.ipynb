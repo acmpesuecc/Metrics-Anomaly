{
 "cells": [
  {
   "cell_type": "code",
   "execution_count": null,
   "metadata": {},
   "outputs": [],
   "source": [
    "#hide\n",
    "from metrics_anomaly.core import *"
   ]
  },
  {
   "cell_type": "markdown",
   "metadata": {},
   "source": [
    "# Metrics-Anomaly\n",
    "\n",
    "> Forecasts and finds anomalies in cloud metrics data. "
   ]
  },
  {
   "cell_type": "markdown",
   "metadata": {},
   "source": [
    "## Before you begin -\n",
    "\n",
    "Before you begin, feel free to go through the following resources -  \n",
    "* Time Series Data - Go through https://www.aptech.com/blog/introduction-to-the-fundamentals-of-time-series-data-and-analysis/  \n",
    "* AWS Cloudwatch Metrics - Go through https://docs.aws.amazon.com/AmazonCloudWatch/latest/monitoring/working_with_metrics.html  \n",
    "\n",
    "## Prerequisites - \n",
    "\n",
    "We expect you to have been using Jupyter Notebooks.In case you pictured a planet instead :innocent:,  \n",
    "Install everything below ASAP before your friend goes ahead makes a PR :) \n",
    "\n",
    "*  Git - https://git-scm.com/downloads. OSX and Linux machines typically have this already installed.  \n",
    "*  Anaconda - https://docs.anaconda.com/anaconda/install/,  Jupyter Notebook should come along.(you'll need a Jupyter Notebook Server configured on your machine. If you have not installed Jupyter before, you may find the Anaconda Individual Edition the simplest to install.)  \n"
   ]
  },
  {
   "cell_type": "markdown",
   "metadata": {},
   "source": [
    "## Installation  \n",
    "\n",
    "To install, just run the following commands in order.  \n",
    "\n",
    "### 1. Setup a conda environment.\n",
    "```shell\n",
    "conda create -n time plotly\n",
    "```\n",
    "Here \"time\" is the name of your environment, and plotly is the library being setup in it.(To visualize metric plots)  \n",
    "\n",
    "\n",
    "### 2. Activate your newly created environment.\n",
    "```shell\n",
    "conda activate time\n",
    "```\n",
    "\n",
    "### 3. Install nbdev.\n",
    "```shell\n",
    "pip install nbdev\n",
    "```\n",
    "### 4. Clone our Repo in the directory you want to work in.\n",
    "```shell\n",
    "git clone https://github.com/acmpesuecc/Metrics-Anomaly.git\n",
    "```\n",
    "### 5. cd into our Repo\n",
    "```shell\n",
    "cd Metrics-Anomaly/\n",
    "```\n",
    "\n",
    "### 6. Install git hooks  \n",
    "Jupyter Notebooks can cause challenges with git conflicts, but life becomes much easier when you use nbdev. As a first step, run nbdev_install_git_hooks in the terminal from your project folder.  \n",
    "```shell\n",
    "nbdev_install_git_hooks\n",
    "```\n",
    "\n",
    "### 7. Depending on the Issue make your changes \n",
    "\n",
    "### 8.Build lib and docs\n",
    "Now you can build the python module and docs. Run these commands from anywhere inside the project directory.\n",
    "```shell\n",
    "nbdev_build_lib\n",
    "nbdev_clean_nbs\n",
    "nbdev_build_docs\n",
    "```\n",
    "\n",
    "---\n",
    "\n",
    "> :warning: **All these steps must be done before you commit and make a PR!**\n",
    "\n",
    "---"
   ]
  },
  {
   "cell_type": "markdown",
   "metadata": {},
   "source": [
    "### We have already made an implementation using Facebook's Prophet.\n",
    "Checkout the project page and repo. The python quick start guide can help you get started. <br>\n",
    "Website: https://facebook.github.io/prophet/ <br>\n",
    "Repo: https://github.com/facebook/prophet\n",
    "\n",
    "Check 01_prophet-ec2.ipynb  \n",
    "\n",
    "Make sure you install fbprophet to run the above notebook  \n",
    "```shell\n",
    "conda install -c conda-forge fbprophet\n",
    "```"
   ]
  },
  {
   "cell_type": "markdown",
   "metadata": {},
   "source": []
  }
 ],
 "metadata": {
  "kernelspec": {
   "display_name": "Python 3",
   "language": "python",
   "name": "python3"
  }
 },
 "nbformat": 4,
 "nbformat_minor": 2
}
